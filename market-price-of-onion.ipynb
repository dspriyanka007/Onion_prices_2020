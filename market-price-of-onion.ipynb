{
 "cells": [
  {
   "cell_type": "code",
   "execution_count": 1,
   "metadata": {
    "_cell_guid": "b1076dfc-b9ad-4769-8c92-a6c4dae69d19",
    "_uuid": "8f2839f25d086af736a60e9eeb907d3b93b6e0e5",
    "execution": {
     "iopub.execute_input": "2020-09-30T06:15:14.321381Z",
     "iopub.status.busy": "2020-09-30T06:15:14.320533Z",
     "iopub.status.idle": "2020-09-30T06:15:15.502638Z",
     "shell.execute_reply": "2020-09-30T06:15:15.501549Z"
    },
    "papermill": {
     "duration": 1.215856,
     "end_time": "2020-09-30T06:15:15.502825",
     "exception": false,
     "start_time": "2020-09-30T06:15:14.286969",
     "status": "completed"
    },
    "tags": []
   },
   "outputs": [
    {
     "name": "stdout",
     "output_type": "stream",
     "text": [
      "/kaggle/input/market-price-of-onion-2020/Onion Prices 2020.csv\n"
     ]
    }
   ],
   "source": [
    "# This Python 3 environment comes with many helpful analytics libraries installed\n",
    "# It is defined by the kaggle/python Docker image: https://github.com/kaggle/docker-python\n",
    "# For example, here's several helpful packages to load\n",
    "\n",
    "import numpy as np # linear algebra\n",
    "import pandas as pd # data processing, CSV file I/O (e.g. pd.read_csv)\n",
    "import seaborn as sns\n",
    "import matplotlib.pyplot as plt\n",
    "# Input data files are available in the read-only \"../input/\" directory\n",
    "# For example, running this (by clicking run or pressing Shift+Enter) will list all files under the input directory\n",
    "\n",
    "import os\n",
    "for dirname, _, filenames in os.walk('/kaggle/input'):\n",
    "    for filename in filenames:\n",
    "        print(os.path.join(dirname, filename))\n",
    "\n",
    "# You can write up to 5GB to the current directory (/kaggle/working/) that gets preserved as output when you create a version using \"Save & Run All\" \n",
    "# You can also write temporary files to /kaggle/temp/, but they won't be saved outside of the current session"
   ]
  },
  {
   "cell_type": "code",
   "execution_count": 2,
   "metadata": {
    "_cell_guid": "79c7e3d0-c299-4dcb-8224-4455121ee9b0",
    "_uuid": "d629ff2d2480ee46fbb7e2d37f6b5fab8052498a",
    "execution": {
     "iopub.execute_input": "2020-09-30T06:15:15.560408Z",
     "iopub.status.busy": "2020-09-30T06:15:15.559494Z",
     "iopub.status.idle": "2020-09-30T06:15:15.757351Z",
     "shell.execute_reply": "2020-09-30T06:15:15.756664Z"
    },
    "papermill": {
     "duration": 0.229379,
     "end_time": "2020-09-30T06:15:15.757478",
     "exception": false,
     "start_time": "2020-09-30T06:15:15.528099",
     "status": "completed"
    },
    "tags": []
   },
   "outputs": [],
   "source": [
    "df = pd.read_csv(\"/kaggle/input/market-price-of-onion-2020/Onion Prices 2020.csv\")"
   ]
  },
  {
   "cell_type": "code",
   "execution_count": 3,
   "metadata": {
    "execution": {
     "iopub.execute_input": "2020-09-30T06:15:15.825680Z",
     "iopub.status.busy": "2020-09-30T06:15:15.824836Z",
     "iopub.status.idle": "2020-09-30T06:15:15.839582Z",
     "shell.execute_reply": "2020-09-30T06:15:15.838913Z"
    },
    "papermill": {
     "duration": 0.057685,
     "end_time": "2020-09-30T06:15:15.839739",
     "exception": false,
     "start_time": "2020-09-30T06:15:15.782054",
     "status": "completed"
    },
    "tags": []
   },
   "outputs": [
    {
     "data": {
      "text/html": [
       "<div>\n",
       "<style scoped>\n",
       "    .dataframe tbody tr th:only-of-type {\n",
       "        vertical-align: middle;\n",
       "    }\n",
       "\n",
       "    .dataframe tbody tr th {\n",
       "        vertical-align: top;\n",
       "    }\n",
       "\n",
       "    .dataframe thead th {\n",
       "        text-align: right;\n",
       "    }\n",
       "</style>\n",
       "<table border=\"1\" class=\"dataframe\">\n",
       "  <thead>\n",
       "    <tr style=\"text-align: right;\">\n",
       "      <th></th>\n",
       "      <th>state</th>\n",
       "      <th>district</th>\n",
       "      <th>market</th>\n",
       "      <th>commodity</th>\n",
       "      <th>variety</th>\n",
       "      <th>arrival_date</th>\n",
       "      <th>min_price</th>\n",
       "      <th>max_price</th>\n",
       "      <th>modal_price</th>\n",
       "    </tr>\n",
       "  </thead>\n",
       "  <tbody>\n",
       "    <tr>\n",
       "      <th>0</th>\n",
       "      <td>Andhra Pradesh</td>\n",
       "      <td>Kurnool</td>\n",
       "      <td>Kurnool</td>\n",
       "      <td>Onion</td>\n",
       "      <td>Local</td>\n",
       "      <td>03/01/2020</td>\n",
       "      <td>1350</td>\n",
       "      <td>4390</td>\n",
       "      <td>3100.0</td>\n",
       "    </tr>\n",
       "    <tr>\n",
       "      <th>1</th>\n",
       "      <td>Andhra Pradesh</td>\n",
       "      <td>Kurnool</td>\n",
       "      <td>Kurnool</td>\n",
       "      <td>Onion</td>\n",
       "      <td>Local</td>\n",
       "      <td>04/01/2020</td>\n",
       "      <td>1390</td>\n",
       "      <td>4400</td>\n",
       "      <td>3200.0</td>\n",
       "    </tr>\n",
       "    <tr>\n",
       "      <th>2</th>\n",
       "      <td>Andhra Pradesh</td>\n",
       "      <td>Kurnool</td>\n",
       "      <td>Kurnool</td>\n",
       "      <td>Onion</td>\n",
       "      <td>Local</td>\n",
       "      <td>06/01/2020</td>\n",
       "      <td>1460</td>\n",
       "      <td>5150</td>\n",
       "      <td>4310.0</td>\n",
       "    </tr>\n",
       "    <tr>\n",
       "      <th>3</th>\n",
       "      <td>Andhra Pradesh</td>\n",
       "      <td>Kurnool</td>\n",
       "      <td>Kurnool</td>\n",
       "      <td>Onion</td>\n",
       "      <td>Local</td>\n",
       "      <td>07/01/2020</td>\n",
       "      <td>2010</td>\n",
       "      <td>5200</td>\n",
       "      <td>4200.0</td>\n",
       "    </tr>\n",
       "    <tr>\n",
       "      <th>4</th>\n",
       "      <td>Andhra Pradesh</td>\n",
       "      <td>Kurnool</td>\n",
       "      <td>Kurnool</td>\n",
       "      <td>Onion</td>\n",
       "      <td>Local</td>\n",
       "      <td>10/01/2020</td>\n",
       "      <td>1320</td>\n",
       "      <td>4050</td>\n",
       "      <td>3300.0</td>\n",
       "    </tr>\n",
       "  </tbody>\n",
       "</table>\n",
       "</div>"
      ],
      "text/plain": [
       "            state district   market commodity variety arrival_date  min_price  \\\n",
       "0  Andhra Pradesh  Kurnool  Kurnool     Onion   Local   03/01/2020       1350   \n",
       "1  Andhra Pradesh  Kurnool  Kurnool     Onion   Local   04/01/2020       1390   \n",
       "2  Andhra Pradesh  Kurnool  Kurnool     Onion   Local   06/01/2020       1460   \n",
       "3  Andhra Pradesh  Kurnool  Kurnool     Onion   Local   07/01/2020       2010   \n",
       "4  Andhra Pradesh  Kurnool  Kurnool     Onion   Local   10/01/2020       1320   \n",
       "\n",
       "   max_price  modal_price  \n",
       "0       4390       3100.0  \n",
       "1       4400       3200.0  \n",
       "2       5150       4310.0  \n",
       "3       5200       4200.0  \n",
       "4       4050       3300.0  "
      ]
     },
     "execution_count": 3,
     "metadata": {},
     "output_type": "execute_result"
    }
   ],
   "source": [
    "df.head()"
   ]
  },
  {
   "cell_type": "code",
   "execution_count": 4,
   "metadata": {
    "execution": {
     "iopub.execute_input": "2020-09-30T06:15:15.896368Z",
     "iopub.status.busy": "2020-09-30T06:15:15.895472Z",
     "iopub.status.idle": "2020-09-30T06:15:15.899817Z",
     "shell.execute_reply": "2020-09-30T06:15:15.900425Z"
    },
    "papermill": {
     "duration": 0.035634,
     "end_time": "2020-09-30T06:15:15.900586",
     "exception": false,
     "start_time": "2020-09-30T06:15:15.864952",
     "status": "completed"
    },
    "tags": []
   },
   "outputs": [
    {
     "data": {
      "text/plain": [
       "(107295, 9)"
      ]
     },
     "execution_count": 4,
     "metadata": {},
     "output_type": "execute_result"
    }
   ],
   "source": [
    "df.shape"
   ]
  },
  {
   "cell_type": "code",
   "execution_count": 5,
   "metadata": {
    "execution": {
     "iopub.execute_input": "2020-09-30T06:15:16.028497Z",
     "iopub.status.busy": "2020-09-30T06:15:16.027438Z",
     "iopub.status.idle": "2020-09-30T06:15:16.048164Z",
     "shell.execute_reply": "2020-09-30T06:15:16.046902Z"
    },
    "papermill": {
     "duration": 0.12175,
     "end_time": "2020-09-30T06:15:16.048374",
     "exception": false,
     "start_time": "2020-09-30T06:15:15.926624",
     "status": "completed"
    },
    "tags": []
   },
   "outputs": [
    {
     "name": "stdout",
     "output_type": "stream",
     "text": [
      "<class 'pandas.core.frame.DataFrame'>\n",
      "RangeIndex: 107295 entries, 0 to 107294\n",
      "Data columns (total 9 columns):\n",
      " #   Column        Non-Null Count   Dtype  \n",
      "---  ------        --------------   -----  \n",
      " 0   state         107295 non-null  object \n",
      " 1   district      107295 non-null  object \n",
      " 2   market        107295 non-null  object \n",
      " 3   commodity     107295 non-null  object \n",
      " 4   variety       107295 non-null  object \n",
      " 5   arrival_date  107295 non-null  object \n",
      " 6   min_price     107295 non-null  int64  \n",
      " 7   max_price     107295 non-null  int64  \n",
      " 8   modal_price   107295 non-null  float64\n",
      "dtypes: float64(1), int64(2), object(6)\n",
      "memory usage: 7.4+ MB\n"
     ]
    }
   ],
   "source": [
    "df.info()"
   ]
  },
  {
   "cell_type": "code",
   "execution_count": 6,
   "metadata": {
    "execution": {
     "iopub.execute_input": "2020-09-30T06:15:16.118115Z",
     "iopub.status.busy": "2020-09-30T06:15:16.117054Z",
     "iopub.status.idle": "2020-09-30T06:15:16.485333Z",
     "shell.execute_reply": "2020-09-30T06:15:16.484669Z"
    },
    "papermill": {
     "duration": 0.409248,
     "end_time": "2020-09-30T06:15:16.485472",
     "exception": false,
     "start_time": "2020-09-30T06:15:16.076224",
     "status": "completed"
    },
    "tags": []
   },
   "outputs": [
    {
     "data": {
      "text/plain": [
       "<matplotlib.axes._subplots.AxesSubplot at 0x7fa304f98d10>"
      ]
     },
     "execution_count": 6,
     "metadata": {},
     "output_type": "execute_result"
    },
    {
     "data": {
      "image/png": "[encoded data removed]",
      "text/plain": [
       "<Figure size 432x288 with 1 Axes>"
      ]
     },
     "metadata": {
      "needs_background": "light"
     },
     "output_type": "display_data"
    }
   ],
   "source": [
    "sns.countplot(x='variety',data=df)"
   ]
  },
  {
   "cell_type": "code",
   "execution_count": 7,
   "metadata": {
    "execution": {
     "iopub.execute_input": "2020-09-30T06:15:16.554791Z",
     "iopub.status.busy": "2020-09-30T06:15:16.553939Z",
     "iopub.status.idle": "2020-09-30T06:15:18.230939Z",
     "shell.execute_reply": "2020-09-30T06:15:18.230271Z"
    },
    "papermill": {
     "duration": 1.717778,
     "end_time": "2020-09-30T06:15:18.231067",
     "exception": false,
     "start_time": "2020-09-30T06:15:16.513289",
     "status": "completed"
    },
    "tags": []
   },
   "outputs": [
    {
     "data": {
      "text/plain": [
       "<matplotlib.axes._subplots.AxesSubplot at 0x7fa304cc2650>"
      ]
     },
     "execution_count": 7,
     "metadata": {},
     "output_type": "execute_result"
    },
    {
     "data": {
      "image/png": "[encoded data removed]",
      "text/plain": [
       "<Figure size 432x288 with 1 Axes>"
      ]
     },
     "metadata": {
      "needs_background": "light"
     },
     "output_type": "display_data"
    }
   ],
   "source": [
    "sns.barplot(df['variety'],df['modal_price'])"
   ]
  },
  {
   "cell_type": "markdown",
   "metadata": {
    "papermill": {
     "duration": 0.029193,
     "end_time": "2020-09-30T06:15:18.289538",
     "exception": false,
     "start_time": "2020-09-30T06:15:18.260345",
     "status": "completed"
    },
    "tags": []
   },
   "source": [
    "# **Dummy variable**"
   ]
  },
  {
   "cell_type": "code",
   "execution_count": 8,
   "metadata": {
    "execution": {
     "iopub.execute_input": "2020-09-30T06:15:18.381013Z",
     "iopub.status.busy": "2020-09-30T06:15:18.373632Z",
     "iopub.status.idle": "2020-09-30T06:15:19.200176Z",
     "shell.execute_reply": "2020-09-30T06:15:19.200915Z"
    },
    "papermill": {
     "duration": 0.881742,
     "end_time": "2020-09-30T06:15:19.201085",
     "exception": false,
     "start_time": "2020-09-30T06:15:18.319343",
     "status": "completed"
    },
    "tags": []
   },
   "outputs": [],
   "source": [
    "df=pd.get_dummies(df)"
   ]
  },
  {
   "cell_type": "code",
   "execution_count": 9,
   "metadata": {
    "execution": {
     "iopub.execute_input": "2020-09-30T06:15:19.286292Z",
     "iopub.status.busy": "2020-09-30T06:15:19.277364Z",
     "iopub.status.idle": "2020-09-30T06:15:19.291294Z",
     "shell.execute_reply": "2020-09-30T06:15:19.291919Z"
    },
    "papermill": {
     "duration": 0.059663,
     "end_time": "2020-09-30T06:15:19.292079",
     "exception": false,
     "start_time": "2020-09-30T06:15:19.232416",
     "status": "completed"
    },
    "tags": []
   },
   "outputs": [
    {
     "data": {
      "text/html": [
       "<div>\n",
       "<style scoped>\n",
       "    .dataframe tbody tr th:only-of-type {\n",
       "        vertical-align: middle;\n",
       "    }\n",
       "\n",
       "    .dataframe tbody tr th {\n",
       "        vertical-align: top;\n",
       "    }\n",
       "\n",
       "    .dataframe thead th {\n",
       "        text-align: right;\n",
       "    }\n",
       "</style>\n",
       "<table border=\"1\" class=\"dataframe\">\n",
       "  <thead>\n",
       "    <tr style=\"text-align: right;\">\n",
       "      <th></th>\n",
       "      <th>min_price</th>\n",
       "      <th>max_price</th>\n",
       "      <th>modal_price</th>\n",
       "      <th>state_Andhra Pradesh</th>\n",
       "      <th>state_Chattisgarh</th>\n",
       "      <th>state_Goa</th>\n",
       "      <th>state_Gujarat</th>\n",
       "      <th>state_Haryana</th>\n",
       "      <th>state_Himachal Pradesh</th>\n",
       "      <th>state_Jammu and Kashmir</th>\n",
       "      <th>...</th>\n",
       "      <th>arrival_date_30/04/2020</th>\n",
       "      <th>arrival_date_30/05/2020</th>\n",
       "      <th>arrival_date_30/06/2020</th>\n",
       "      <th>arrival_date_30/07/2020</th>\n",
       "      <th>arrival_date_30/08/2020</th>\n",
       "      <th>arrival_date_31/01/2020</th>\n",
       "      <th>arrival_date_31/03/2020</th>\n",
       "      <th>arrival_date_31/05/2020</th>\n",
       "      <th>arrival_date_31/07/2020</th>\n",
       "      <th>arrival_date_31/08/2020</th>\n",
       "    </tr>\n",
       "  </thead>\n",
       "  <tbody>\n",
       "    <tr>\n",
       "      <th>0</th>\n",
       "      <td>1350</td>\n",
       "      <td>4390</td>\n",
       "      <td>3100.0</td>\n",
       "      <td>1</td>\n",
       "      <td>0</td>\n",
       "      <td>0</td>\n",
       "      <td>0</td>\n",
       "      <td>0</td>\n",
       "      <td>0</td>\n",
       "      <td>0</td>\n",
       "      <td>...</td>\n",
       "      <td>0</td>\n",
       "      <td>0</td>\n",
       "      <td>0</td>\n",
       "      <td>0</td>\n",
       "      <td>0</td>\n",
       "      <td>0</td>\n",
       "      <td>0</td>\n",
       "      <td>0</td>\n",
       "      <td>0</td>\n",
       "      <td>0</td>\n",
       "    </tr>\n",
       "    <tr>\n",
       "      <th>1</th>\n",
       "      <td>1390</td>\n",
       "      <td>4400</td>\n",
       "      <td>3200.0</td>\n",
       "      <td>1</td>\n",
       "      <td>0</td>\n",
       "      <td>0</td>\n",
       "      <td>0</td>\n",
       "      <td>0</td>\n",
       "      <td>0</td>\n",
       "      <td>0</td>\n",
       "      <td>...</td>\n",
       "      <td>0</td>\n",
       "      <td>0</td>\n",
       "      <td>0</td>\n",
       "      <td>0</td>\n",
       "      <td>0</td>\n",
       "      <td>0</td>\n",
       "      <td>0</td>\n",
       "      <td>0</td>\n",
       "      <td>0</td>\n",
       "      <td>0</td>\n",
       "    </tr>\n",
       "    <tr>\n",
       "      <th>2</th>\n",
       "      <td>1460</td>\n",
       "      <td>5150</td>\n",
       "      <td>4310.0</td>\n",
       "      <td>1</td>\n",
       "      <td>0</td>\n",
       "      <td>0</td>\n",
       "      <td>0</td>\n",
       "      <td>0</td>\n",
       "      <td>0</td>\n",
       "      <td>0</td>\n",
       "      <td>...</td>\n",
       "      <td>0</td>\n",
       "      <td>0</td>\n",
       "      <td>0</td>\n",
       "      <td>0</td>\n",
       "      <td>0</td>\n",
       "      <td>0</td>\n",
       "      <td>0</td>\n",
       "      <td>0</td>\n",
       "      <td>0</td>\n",
       "      <td>0</td>\n",
       "    </tr>\n",
       "    <tr>\n",
       "      <th>3</th>\n",
       "      <td>2010</td>\n",
       "      <td>5200</td>\n",
       "      <td>4200.0</td>\n",
       "      <td>1</td>\n",
       "      <td>0</td>\n",
       "      <td>0</td>\n",
       "      <td>0</td>\n",
       "      <td>0</td>\n",
       "      <td>0</td>\n",
       "      <td>0</td>\n",
       "      <td>...</td>\n",
       "      <td>0</td>\n",
       "      <td>0</td>\n",
       "      <td>0</td>\n",
       "      <td>0</td>\n",
       "      <td>0</td>\n",
       "      <td>0</td>\n",
       "      <td>0</td>\n",
       "      <td>0</td>\n",
       "      <td>0</td>\n",
       "      <td>0</td>\n",
       "    </tr>\n",
       "    <tr>\n",
       "      <th>4</th>\n",
       "      <td>1320</td>\n",
       "      <td>4050</td>\n",
       "      <td>3300.0</td>\n",
       "      <td>1</td>\n",
       "      <td>0</td>\n",
       "      <td>0</td>\n",
       "      <td>0</td>\n",
       "      <td>0</td>\n",
       "      <td>0</td>\n",
       "      <td>0</td>\n",
       "      <td>...</td>\n",
       "      <td>0</td>\n",
       "      <td>0</td>\n",
       "      <td>0</td>\n",
       "      <td>0</td>\n",
       "      <td>0</td>\n",
       "      <td>0</td>\n",
       "      <td>0</td>\n",
       "      <td>0</td>\n",
       "      <td>0</td>\n",
       "      <td>0</td>\n",
       "    </tr>\n",
       "  </tbody>\n",
       "</table>\n",
       "<p>5 rows × 1527 columns</p>\n",
       "</div>"
      ],
      "text/plain": [
       "   min_price  max_price  modal_price  state_Andhra Pradesh  state_Chattisgarh  \\\n",
       "0       1350       4390       3100.0                     1                  0   \n",
       "1       1390       4400       3200.0                     1                  0   \n",
       "2       1460       5150       4310.0                     1                  0   \n",
       "3       2010       5200       4200.0                     1                  0   \n",
       "4       1320       4050       3300.0                     1                  0   \n",
       "\n",
       "   state_Goa  state_Gujarat  state_Haryana  state_Himachal Pradesh  \\\n",
       "0          0              0              0                       0   \n",
       "1          0              0              0                       0   \n",
       "2          0              0              0                       0   \n",
       "3          0              0              0                       0   \n",
       "4          0              0              0                       0   \n",
       "\n",
       "   state_Jammu and Kashmir  ...  arrival_date_30/04/2020  \\\n",
       "0                        0  ...                        0   \n",
       "1                        0  ...                        0   \n",
       "2                        0  ...                        0   \n",
       "3                        0  ...                        0   \n",
       "4                        0  ...                        0   \n",
       "\n",
       "   arrival_date_30/05/2020  arrival_date_30/06/2020  arrival_date_30/07/2020  \\\n",
       "0                        0                        0                        0   \n",
       "1                        0                        0                        0   \n",
       "2                        0                        0                        0   \n",
       "3                        0                        0                        0   \n",
       "4                        0                        0                        0   \n",
       "\n",
       "   arrival_date_30/08/2020  arrival_date_31/01/2020  arrival_date_31/03/2020  \\\n",
       "0                        0                        0                        0   \n",
       "1                        0                        0                        0   \n",
       "2                        0                        0                        0   \n",
       "3                        0                        0                        0   \n",
       "4                        0                        0                        0   \n",
       "\n",
       "   arrival_date_31/05/2020  arrival_date_31/07/2020  arrival_date_31/08/2020  \n",
       "0                        0                        0                        0  \n",
       "1                        0                        0                        0  \n",
       "2                        0                        0                        0  \n",
       "3                        0                        0                        0  \n",
       "4                        0                        0                        0  \n",
       "\n",
       "[5 rows x 1527 columns]"
      ]
     },
     "execution_count": 9,
     "metadata": {},
     "output_type": "execute_result"
    }
   ],
   "source": [
    "df.head()"
   ]
  },
  {
   "cell_type": "markdown",
   "metadata": {
    "papermill": {
     "duration": 0.030768,
     "end_time": "2020-09-30T06:15:19.354273",
     "exception": false,
     "start_time": "2020-09-30T06:15:19.323505",
     "status": "completed"
    },
    "tags": []
   },
   "source": [
    "# **x-y split**"
   ]
  },
  {
   "cell_type": "code",
   "execution_count": 10,
   "metadata": {
    "execution": {
     "iopub.execute_input": "2020-09-30T06:15:19.422865Z",
     "iopub.status.busy": "2020-09-30T06:15:19.422045Z",
     "iopub.status.idle": "2020-09-30T06:15:19.772664Z",
     "shell.execute_reply": "2020-09-30T06:15:19.771786Z"
    },
    "papermill": {
     "duration": 0.386972,
     "end_time": "2020-09-30T06:15:19.772828",
     "exception": false,
     "start_time": "2020-09-30T06:15:19.385856",
     "status": "completed"
    },
    "tags": []
   },
   "outputs": [],
   "source": [
    "x =df.loc[:,df.columns!='modal_price']"
   ]
  },
  {
   "cell_type": "code",
   "execution_count": 11,
   "metadata": {
    "execution": {
     "iopub.execute_input": "2020-09-30T06:15:19.840369Z",
     "iopub.status.busy": "2020-09-30T06:15:19.839214Z",
     "iopub.status.idle": "2020-09-30T06:15:19.843983Z",
     "shell.execute_reply": "2020-09-30T06:15:19.843220Z"
    },
    "papermill": {
     "duration": 0.040599,
     "end_time": "2020-09-30T06:15:19.844113",
     "exception": false,
     "start_time": "2020-09-30T06:15:19.803514",
     "status": "completed"
    },
    "tags": []
   },
   "outputs": [
    {
     "data": {
      "text/plain": [
       "(107295, 1526)"
      ]
     },
     "execution_count": 11,
     "metadata": {},
     "output_type": "execute_result"
    }
   ],
   "source": [
    "x.shape"
   ]
  },
  {
   "cell_type": "code",
   "execution_count": 12,
   "metadata": {
    "execution": {
     "iopub.execute_input": "2020-09-30T06:15:19.913261Z",
     "iopub.status.busy": "2020-09-30T06:15:19.912414Z",
     "iopub.status.idle": "2020-09-30T06:15:19.915920Z",
     "shell.execute_reply": "2020-09-30T06:15:19.915297Z"
    },
    "papermill": {
     "duration": 0.040248,
     "end_time": "2020-09-30T06:15:19.916067",
     "exception": false,
     "start_time": "2020-09-30T06:15:19.875819",
     "status": "completed"
    },
    "tags": []
   },
   "outputs": [],
   "source": [
    "y= df['modal_price']"
   ]
  },
  {
   "cell_type": "code",
   "execution_count": 13,
   "metadata": {
    "execution": {
     "iopub.execute_input": "2020-09-30T06:15:19.985539Z",
     "iopub.status.busy": "2020-09-30T06:15:19.984639Z",
     "iopub.status.idle": "2020-09-30T06:15:19.989811Z",
     "shell.execute_reply": "2020-09-30T06:15:19.989138Z"
    },
    "papermill": {
     "duration": 0.042584,
     "end_time": "2020-09-30T06:15:19.990056",
     "exception": false,
     "start_time": "2020-09-30T06:15:19.947472",
     "status": "completed"
    },
    "tags": []
   },
   "outputs": [
    {
     "data": {
      "text/plain": [
       "(107295,)"
      ]
     },
     "execution_count": 13,
     "metadata": {},
     "output_type": "execute_result"
    }
   ],
   "source": [
    "y.shape"
   ]
  },
  {
   "cell_type": "markdown",
   "metadata": {
    "papermill": {
     "duration": 0.032316,
     "end_time": "2020-09-30T06:15:20.054755",
     "exception": false,
     "start_time": "2020-09-30T06:15:20.022439",
     "status": "completed"
    },
    "tags": []
   },
   "source": [
    "# **train_test_split**"
   ]
  },
  {
   "cell_type": "code",
   "execution_count": 14,
   "metadata": {
    "execution": {
     "iopub.execute_input": "2020-09-30T06:15:20.126936Z",
     "iopub.status.busy": "2020-09-30T06:15:20.126076Z",
     "iopub.status.idle": "2020-09-30T06:15:20.258688Z",
     "shell.execute_reply": "2020-09-30T06:15:20.257792Z"
    },
    "papermill": {
     "duration": 0.170173,
     "end_time": "2020-09-30T06:15:20.258859",
     "exception": false,
     "start_time": "2020-09-30T06:15:20.088686",
     "status": "completed"
    },
    "tags": []
   },
   "outputs": [],
   "source": [
    "from sklearn.model_selection import train_test_split"
   ]
  },
  {
   "cell_type": "code",
   "execution_count": 15,
   "metadata": {
    "execution": {
     "iopub.execute_input": "2020-09-30T06:15:20.331308Z",
     "iopub.status.busy": "2020-09-30T06:15:20.330480Z",
     "iopub.status.idle": "2020-09-30T06:15:20.754541Z",
     "shell.execute_reply": "2020-09-30T06:15:20.753740Z"
    },
    "papermill": {
     "duration": 0.463136,
     "end_time": "2020-09-30T06:15:20.754668",
     "exception": false,
     "start_time": "2020-09-30T06:15:20.291532",
     "status": "completed"
    },
    "tags": []
   },
   "outputs": [],
   "source": [
    "x_train,x_test,y_train,y_test=train_test_split(x,y,test_size=0.2,random_state=0)"
   ]
  },
  {
   "cell_type": "code",
   "execution_count": 16,
   "metadata": {
    "execution": {
     "iopub.execute_input": "2020-09-30T06:15:20.842653Z",
     "iopub.status.busy": "2020-09-30T06:15:20.826394Z",
     "iopub.status.idle": "2020-09-30T06:15:20.849319Z",
     "shell.execute_reply": "2020-09-30T06:15:20.848508Z"
    },
    "papermill": {
     "duration": 0.062219,
     "end_time": "2020-09-30T06:15:20.849448",
     "exception": false,
     "start_time": "2020-09-30T06:15:20.787229",
     "status": "completed"
    },
    "tags": []
   },
   "outputs": [
    {
     "data": {
      "text/html": [
       "<div>\n",
       "<style scoped>\n",
       "    .dataframe tbody tr th:only-of-type {\n",
       "        vertical-align: middle;\n",
       "    }\n",
       "\n",
       "    .dataframe tbody tr th {\n",
       "        vertical-align: top;\n",
       "    }\n",
       "\n",
       "    .dataframe thead th {\n",
       "        text-align: right;\n",
       "    }\n",
       "</style>\n",
       "<table border=\"1\" class=\"dataframe\">\n",
       "  <thead>\n",
       "    <tr style=\"text-align: right;\">\n",
       "      <th></th>\n",
       "      <th>min_price</th>\n",
       "      <th>max_price</th>\n",
       "      <th>state_Andhra Pradesh</th>\n",
       "      <th>state_Chattisgarh</th>\n",
       "      <th>state_Goa</th>\n",
       "      <th>state_Gujarat</th>\n",
       "      <th>state_Haryana</th>\n",
       "      <th>state_Himachal Pradesh</th>\n",
       "      <th>state_Jammu and Kashmir</th>\n",
       "      <th>state_Jharkhand</th>\n",
       "      <th>...</th>\n",
       "      <th>arrival_date_30/04/2020</th>\n",
       "      <th>arrival_date_30/05/2020</th>\n",
       "      <th>arrival_date_30/06/2020</th>\n",
       "      <th>arrival_date_30/07/2020</th>\n",
       "      <th>arrival_date_30/08/2020</th>\n",
       "      <th>arrival_date_31/01/2020</th>\n",
       "      <th>arrival_date_31/03/2020</th>\n",
       "      <th>arrival_date_31/05/2020</th>\n",
       "      <th>arrival_date_31/07/2020</th>\n",
       "      <th>arrival_date_31/08/2020</th>\n",
       "    </tr>\n",
       "  </thead>\n",
       "  <tbody>\n",
       "    <tr>\n",
       "      <th>51785</th>\n",
       "      <td>800</td>\n",
       "      <td>1300</td>\n",
       "      <td>0</td>\n",
       "      <td>0</td>\n",
       "      <td>0</td>\n",
       "      <td>0</td>\n",
       "      <td>0</td>\n",
       "      <td>0</td>\n",
       "      <td>0</td>\n",
       "      <td>0</td>\n",
       "      <td>...</td>\n",
       "      <td>0</td>\n",
       "      <td>0</td>\n",
       "      <td>0</td>\n",
       "      <td>0</td>\n",
       "      <td>0</td>\n",
       "      <td>0</td>\n",
       "      <td>0</td>\n",
       "      <td>0</td>\n",
       "      <td>0</td>\n",
       "      <td>0</td>\n",
       "    </tr>\n",
       "    <tr>\n",
       "      <th>63137</th>\n",
       "      <td>1200</td>\n",
       "      <td>1350</td>\n",
       "      <td>0</td>\n",
       "      <td>0</td>\n",
       "      <td>0</td>\n",
       "      <td>0</td>\n",
       "      <td>0</td>\n",
       "      <td>0</td>\n",
       "      <td>0</td>\n",
       "      <td>0</td>\n",
       "      <td>...</td>\n",
       "      <td>0</td>\n",
       "      <td>0</td>\n",
       "      <td>0</td>\n",
       "      <td>0</td>\n",
       "      <td>0</td>\n",
       "      <td>0</td>\n",
       "      <td>0</td>\n",
       "      <td>0</td>\n",
       "      <td>0</td>\n",
       "      <td>0</td>\n",
       "    </tr>\n",
       "    <tr>\n",
       "      <th>54316</th>\n",
       "      <td>1650</td>\n",
       "      <td>2050</td>\n",
       "      <td>0</td>\n",
       "      <td>0</td>\n",
       "      <td>0</td>\n",
       "      <td>0</td>\n",
       "      <td>0</td>\n",
       "      <td>0</td>\n",
       "      <td>0</td>\n",
       "      <td>0</td>\n",
       "      <td>...</td>\n",
       "      <td>0</td>\n",
       "      <td>0</td>\n",
       "      <td>0</td>\n",
       "      <td>0</td>\n",
       "      <td>0</td>\n",
       "      <td>0</td>\n",
       "      <td>0</td>\n",
       "      <td>0</td>\n",
       "      <td>0</td>\n",
       "      <td>0</td>\n",
       "    </tr>\n",
       "    <tr>\n",
       "      <th>89591</th>\n",
       "      <td>850</td>\n",
       "      <td>950</td>\n",
       "      <td>0</td>\n",
       "      <td>0</td>\n",
       "      <td>0</td>\n",
       "      <td>0</td>\n",
       "      <td>0</td>\n",
       "      <td>0</td>\n",
       "      <td>0</td>\n",
       "      <td>0</td>\n",
       "      <td>...</td>\n",
       "      <td>0</td>\n",
       "      <td>0</td>\n",
       "      <td>0</td>\n",
       "      <td>0</td>\n",
       "      <td>0</td>\n",
       "      <td>0</td>\n",
       "      <td>0</td>\n",
       "      <td>0</td>\n",
       "      <td>0</td>\n",
       "      <td>0</td>\n",
       "    </tr>\n",
       "    <tr>\n",
       "      <th>47324</th>\n",
       "      <td>1000</td>\n",
       "      <td>1200</td>\n",
       "      <td>0</td>\n",
       "      <td>0</td>\n",
       "      <td>0</td>\n",
       "      <td>0</td>\n",
       "      <td>0</td>\n",
       "      <td>0</td>\n",
       "      <td>0</td>\n",
       "      <td>0</td>\n",
       "      <td>...</td>\n",
       "      <td>0</td>\n",
       "      <td>0</td>\n",
       "      <td>0</td>\n",
       "      <td>0</td>\n",
       "      <td>0</td>\n",
       "      <td>0</td>\n",
       "      <td>0</td>\n",
       "      <td>0</td>\n",
       "      <td>0</td>\n",
       "      <td>0</td>\n",
       "    </tr>\n",
       "  </tbody>\n",
       "</table>\n",
       "<p>5 rows × 1526 columns</p>\n",
       "</div>"
      ],
      "text/plain": [
       "       min_price  max_price  state_Andhra Pradesh  state_Chattisgarh  \\\n",
       "51785        800       1300                     0                  0   \n",
       "63137       1200       1350                     0                  0   \n",
       "54316       1650       2050                     0                  0   \n",
       "89591        850        950                     0                  0   \n",
       "47324       1000       1200                     0                  0   \n",
       "\n",
       "       state_Goa  state_Gujarat  state_Haryana  state_Himachal Pradesh  \\\n",
       "51785          0              0              0                       0   \n",
       "63137          0              0              0                       0   \n",
       "54316          0              0              0                       0   \n",
       "89591          0              0              0                       0   \n",
       "47324          0              0              0                       0   \n",
       "\n",
       "       state_Jammu and Kashmir  state_Jharkhand  ...  arrival_date_30/04/2020  \\\n",
       "51785                        0                0  ...                        0   \n",
       "63137                        0                0  ...                        0   \n",
       "54316                        0                0  ...                        0   \n",
       "89591                        0                0  ...                        0   \n",
       "47324                        0                0  ...                        0   \n",
       "\n",
       "       arrival_date_30/05/2020  arrival_date_30/06/2020  \\\n",
       "51785                        0                        0   \n",
       "63137                        0                        0   \n",
       "54316                        0                        0   \n",
       "89591                        0                        0   \n",
       "47324                        0                        0   \n",
       "\n",
       "       arrival_date_30/07/2020  arrival_date_30/08/2020  \\\n",
       "51785                        0                        0   \n",
       "63137                        0                        0   \n",
       "54316                        0                        0   \n",
       "89591                        0                        0   \n",
       "47324                        0                        0   \n",
       "\n",
       "       arrival_date_31/01/2020  arrival_date_31/03/2020  \\\n",
       "51785                        0                        0   \n",
       "63137                        0                        0   \n",
       "54316                        0                        0   \n",
       "89591                        0                        0   \n",
       "47324                        0                        0   \n",
       "\n",
       "       arrival_date_31/05/2020  arrival_date_31/07/2020  \\\n",
       "51785                        0                        0   \n",
       "63137                        0                        0   \n",
       "54316                        0                        0   \n",
       "89591                        0                        0   \n",
       "47324                        0                        0   \n",
       "\n",
       "       arrival_date_31/08/2020  \n",
       "51785                        0  \n",
       "63137                        0  \n",
       "54316                        0  \n",
       "89591                        0  \n",
       "47324                        0  \n",
       "\n",
       "[5 rows x 1526 columns]"
      ]
     },
     "execution_count": 16,
     "metadata": {},
     "output_type": "execute_result"
    }
   ],
   "source": [
    "x_train.head()"
   ]
  },
  {
   "cell_type": "code",
   "execution_count": 17,
   "metadata": {
    "execution": {
     "iopub.execute_input": "2020-09-30T06:15:20.924460Z",
     "iopub.status.busy": "2020-09-30T06:15:20.923368Z",
     "iopub.status.idle": "2020-09-30T06:15:20.928151Z",
     "shell.execute_reply": "2020-09-30T06:15:20.927378Z"
    },
    "papermill": {
     "duration": 0.04448,
     "end_time": "2020-09-30T06:15:20.928363",
     "exception": false,
     "start_time": "2020-09-30T06:15:20.883883",
     "status": "completed"
    },
    "tags": []
   },
   "outputs": [
    {
     "data": {
      "text/plain": [
       "(85836, 1526)"
      ]
     },
     "execution_count": 17,
     "metadata": {},
     "output_type": "execute_result"
    }
   ],
   "source": [
    "x_train.shape"
   ]
  },
  {
   "cell_type": "code",
   "execution_count": 18,
   "metadata": {
    "execution": {
     "iopub.execute_input": "2020-09-30T06:15:21.004513Z",
     "iopub.status.busy": "2020-09-30T06:15:21.003272Z",
     "iopub.status.idle": "2020-09-30T06:15:21.007763Z",
     "shell.execute_reply": "2020-09-30T06:15:21.008438Z"
    },
    "papermill": {
     "duration": 0.046297,
     "end_time": "2020-09-30T06:15:21.008606",
     "exception": false,
     "start_time": "2020-09-30T06:15:20.962309",
     "status": "completed"
    },
    "tags": []
   },
   "outputs": [
    {
     "data": {
      "text/plain": [
       "51785    1000.0\n",
       "63137    1250.0\n",
       "54316    1760.0\n",
       "89591     900.0\n",
       "47324    1200.0\n",
       "Name: modal_price, dtype: float64"
      ]
     },
     "execution_count": 18,
     "metadata": {},
     "output_type": "execute_result"
    }
   ],
   "source": [
    "y_train.head()"
   ]
  },
  {
   "cell_type": "code",
   "execution_count": 19,
   "metadata": {
    "execution": {
     "iopub.execute_input": "2020-09-30T06:15:21.088283Z",
     "iopub.status.busy": "2020-09-30T06:15:21.087170Z",
     "iopub.status.idle": "2020-09-30T06:15:21.092238Z",
     "shell.execute_reply": "2020-09-30T06:15:21.091481Z"
    },
    "papermill": {
     "duration": 0.047457,
     "end_time": "2020-09-30T06:15:21.092366",
     "exception": false,
     "start_time": "2020-09-30T06:15:21.044909",
     "status": "completed"
    },
    "tags": []
   },
   "outputs": [
    {
     "data": {
      "text/plain": [
       "(85836,)"
      ]
     },
     "execution_count": 19,
     "metadata": {},
     "output_type": "execute_result"
    }
   ],
   "source": [
    "y_train.shape"
   ]
  },
  {
   "cell_type": "code",
   "execution_count": 20,
   "metadata": {
    "execution": {
     "iopub.execute_input": "2020-09-30T06:15:21.242527Z",
     "iopub.status.busy": "2020-09-30T06:15:21.241423Z",
     "iopub.status.idle": "2020-09-30T06:15:21.245790Z",
     "shell.execute_reply": "2020-09-30T06:15:21.245033Z"
    },
    "papermill": {
     "duration": 0.046499,
     "end_time": "2020-09-30T06:15:21.245920",
     "exception": false,
     "start_time": "2020-09-30T06:15:21.199421",
     "status": "completed"
    },
    "tags": []
   },
   "outputs": [
    {
     "data": {
      "text/plain": [
       "(21459, 1526)"
      ]
     },
     "execution_count": 20,
     "metadata": {},
     "output_type": "execute_result"
    }
   ],
   "source": [
    "x_test.shape"
   ]
  },
  {
   "cell_type": "code",
   "execution_count": 21,
   "metadata": {
    "execution": {
     "iopub.execute_input": "2020-09-30T06:15:21.324509Z",
     "iopub.status.busy": "2020-09-30T06:15:21.323451Z",
     "iopub.status.idle": "2020-09-30T06:15:21.328985Z",
     "shell.execute_reply": "2020-09-30T06:15:21.328176Z"
    },
    "papermill": {
     "duration": 0.046557,
     "end_time": "2020-09-30T06:15:21.329136",
     "exception": false,
     "start_time": "2020-09-30T06:15:21.282579",
     "status": "completed"
    },
    "tags": []
   },
   "outputs": [
    {
     "data": {
      "text/plain": [
       "(21459,)"
      ]
     },
     "execution_count": 21,
     "metadata": {},
     "output_type": "execute_result"
    }
   ],
   "source": [
    "y_test.shape"
   ]
  },
  {
   "cell_type": "markdown",
   "metadata": {
    "papermill": {
     "duration": 0.036144,
     "end_time": "2020-09-30T06:15:21.402288",
     "exception": false,
     "start_time": "2020-09-30T06:15:21.366144",
     "status": "completed"
    },
    "tags": []
   },
   "source": [
    "# **Creating Model**"
   ]
  },
  {
   "cell_type": "code",
   "execution_count": 22,
   "metadata": {
    "execution": {
     "iopub.execute_input": "2020-09-30T06:15:21.481310Z",
     "iopub.status.busy": "2020-09-30T06:15:21.480276Z",
     "iopub.status.idle": "2020-09-30T06:15:21.565552Z",
     "shell.execute_reply": "2020-09-30T06:15:21.564685Z"
    },
    "papermill": {
     "duration": 0.12662,
     "end_time": "2020-09-30T06:15:21.565689",
     "exception": false,
     "start_time": "2020-09-30T06:15:21.439069",
     "status": "completed"
    },
    "tags": []
   },
   "outputs": [],
   "source": [
    "from sklearn.linear_model import LinearRegression"
   ]
  },
  {
   "cell_type": "code",
   "execution_count": 23,
   "metadata": {
    "execution": {
     "iopub.execute_input": "2020-09-30T06:15:21.655484Z",
     "iopub.status.busy": "2020-09-30T06:15:21.645146Z",
     "iopub.status.idle": "2020-09-30T06:15:34.252439Z",
     "shell.execute_reply": "2020-09-30T06:15:34.251257Z"
    },
    "papermill": {
     "duration": 12.649822,
     "end_time": "2020-09-30T06:15:34.252595",
     "exception": false,
     "start_time": "2020-09-30T06:15:21.602773",
     "status": "completed"
    },
    "tags": []
   },
   "outputs": [],
   "source": [
    "model=LinearRegression().fit(x_train,y_train)"
   ]
  },
  {
   "cell_type": "code",
   "execution_count": 24,
   "metadata": {
    "execution": {
     "iopub.execute_input": "2020-09-30T06:15:34.354798Z",
     "iopub.status.busy": "2020-09-30T06:15:34.353244Z",
     "iopub.status.idle": "2020-09-30T06:15:34.623584Z",
     "shell.execute_reply": "2020-09-30T06:15:34.622946Z"
    },
    "papermill": {
     "duration": 0.331568,
     "end_time": "2020-09-30T06:15:34.623732",
     "exception": false,
     "start_time": "2020-09-30T06:15:34.292164",
     "status": "completed"
    },
    "tags": []
   },
   "outputs": [
    {
     "data": {
      "text/plain": [
       "99.22907912699354"
      ]
     },
     "execution_count": 24,
     "metadata": {},
     "output_type": "execute_result"
    }
   ],
   "source": [
    "model.score(x_test,y_test)*100"
   ]
  },
  {
   "cell_type": "code",
   "execution_count": 25,
   "metadata": {
    "execution": {
     "iopub.execute_input": "2020-09-30T06:15:34.726511Z",
     "iopub.status.busy": "2020-09-30T06:15:34.725741Z",
     "iopub.status.idle": "2020-09-30T06:15:34.995458Z",
     "shell.execute_reply": "2020-09-30T06:15:34.996101Z"
    },
    "papermill": {
     "duration": 0.334498,
     "end_time": "2020-09-30T06:15:34.996286",
     "exception": false,
     "start_time": "2020-09-30T06:15:34.661788",
     "status": "completed"
    },
    "tags": []
   },
   "outputs": [
    {
     "data": {
      "text/plain": [
       "array([ 909.9731052 , 1844.04851405, 1300.02394832, ..., 1076.85254649,\n",
       "       2339.58816277, 2725.96690689])"
      ]
     },
     "execution_count": 25,
     "metadata": {},
     "output_type": "execute_result"
    }
   ],
   "source": [
    "model.predict(x_test)"
   ]
  },
  {
   "cell_type": "code",
   "execution_count": 26,
   "metadata": {
    "execution": {
     "iopub.execute_input": "2020-09-30T06:15:35.102985Z",
     "iopub.status.busy": "2020-09-30T06:15:35.102146Z",
     "iopub.status.idle": "2020-09-30T06:15:35.376034Z",
     "shell.execute_reply": "2020-09-30T06:15:35.375039Z"
    },
    "papermill": {
     "duration": 0.339766,
     "end_time": "2020-09-30T06:15:35.376204",
     "exception": false,
     "start_time": "2020-09-30T06:15:35.036438",
     "status": "completed"
    },
    "tags": []
   },
   "outputs": [],
   "source": [
    "y_pred=model.predict(x_test)"
   ]
  }
 ],
 "metadata": {
  "kernelspec": {
   "display_name": "Python 3",
   "language": "python",
   "name": "python3"
  },
  "language_info": {
   "codemirror_mode": {
    "name": "ipython",
    "version": 3
   },
   "file_extension": ".py",
   "mimetype": "text/x-python",
   "name": "python",
   "nbconvert_exporter": "python",
   "pygments_lexer": "ipython3",
   "version": "3.8.5"
  },
  "papermill": {
   "duration": 26.643305,
   "end_time": "2020-09-30T06:15:35.604699",
   "environment_variables": {},
   "exception": null,
   "input_path": "__notebook__.ipynb",
   "output_path": "__notebook__.ipynb",
   "parameters": {},
   "start_time": "2020-09-30T06:15:08.961394",
   "version": "2.1.0"
  }
 },
 "nbformat": 4,
 "nbformat_minor": 4
}
